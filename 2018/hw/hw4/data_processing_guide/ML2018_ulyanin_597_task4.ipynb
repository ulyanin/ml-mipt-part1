{
 "cells": [
  {
   "cell_type": "code",
   "execution_count": 1,
   "metadata": {},
   "outputs": [],
   "source": [
    "import pandas as pd\n",
    "import numpy as np\n",
    "import xgboost as xgb"
   ]
  },
  {
   "cell_type": "code",
   "execution_count": 2,
   "metadata": {},
   "outputs": [],
   "source": [
    "import sys\n",
    "sys.path.insert(0, 'basic_codes')\n",
    "\n",
    "import class_magnesium_not_drop_na #_transform_pairings\n",
    "from class_magnesium_not_drop_na import *\n",
    "\n",
    "from sklearn.preprocessing import LabelEncoder"
   ]
  },
  {
   "cell_type": "code",
   "execution_count": 3,
   "metadata": {},
   "outputs": [],
   "source": [
    "fold = 'input/'\n",
    "file_train = 'train.csv'\n",
    "file_test = 'test.csv'"
   ]
  },
  {
   "cell_type": "code",
   "execution_count": 4,
   "metadata": {},
   "outputs": [],
   "source": [
    "def number_encode_features(init_df):\n",
    "    result = init_df.copy()\n",
    "    encoders = {}\n",
    "    for column in result.columns:\n",
    "        if result.dtypes[column] == np.object:\n",
    "            encoders[column] = LabelEncoder()\n",
    "            result[column] = encoders[column].fit_transform(result[column])\n",
    "    return result, encoders"
   ]
  },
  {
   "cell_type": "code",
   "execution_count": 5,
   "metadata": {},
   "outputs": [],
   "source": [
    "def load_data(filename, test=True):\n",
    "    '''\n",
    "        Функция для загрузки датасета без инициализации класса. \n",
    "        \n",
    "        Возвращает:\n",
    "         data - полный DataFrame\n",
    "         fetures - список признаков для обучения/предсказания\n",
    "         x - датасет для тренировки/предсказания в формате np.array\n",
    "         y - целевой признак, если он есть. В случае с тестовым датасетом возвращает None\n",
    "    '''\n",
    "    if test:\n",
    "        data = pd.read_table(filename, sep=',').dropna()\n",
    "    else:\n",
    "        data = pd.read_table(filename).dropna()\n",
    "    data = data[~(data['chainlen']>1000)]\n",
    "#     data = number_encode_features(data)[0]\n",
    "    if ('DSSR' in data.columns):\n",
    "        data.drop('DSSR', axis=1, inplace=True)    \n",
    "    \n",
    "    features = list(deepcopy(data.columns))\n",
    "    \n",
    "    [features.remove(column) for column in ['Id','index', 'mg', 'pdb_chain'] if column in data.columns];\n",
    "#     x_test = np.array(data[features])\n",
    "    x_test = data[features]\n",
    "    \n",
    "    try:\n",
    "        y_test = np.array(data['mg'])\n",
    "    except: \n",
    "        y_test = None\n",
    "    change_output('Data loaded')\n",
    "    return {'data':data, 'features':features, 'x':x_test, 'y':y_test}"
   ]
  },
  {
   "cell_type": "code",
   "execution_count": 6,
   "metadata": {},
   "outputs": [
    {
     "name": "stdout",
     "output_type": "stream",
     "text": [
      "Data loaded"
     ]
    }
   ],
   "source": [
    "train = load_data(fold + file_train, test=False)"
   ]
  },
  {
   "cell_type": "code",
   "execution_count": 7,
   "metadata": {},
   "outputs": [
    {
     "name": "stdout",
     "output_type": "stream",
     "text": [
      "Data loaded"
     ]
    }
   ],
   "source": [
    "test = load_data(fold + file_test, test=True)"
   ]
  },
  {
   "cell_type": "code",
   "execution_count": 8,
   "metadata": {},
   "outputs": [],
   "source": [
    "from sklearn.model_selection import train_test_split"
   ]
  },
  {
   "cell_type": "code",
   "execution_count": 9,
   "metadata": {},
   "outputs": [
    {
     "data": {
      "text/html": [
       "<div>\n",
       "<style scoped>\n",
       "    .dataframe tbody tr th:only-of-type {\n",
       "        vertical-align: middle;\n",
       "    }\n",
       "\n",
       "    .dataframe tbody tr th {\n",
       "        vertical-align: top;\n",
       "    }\n",
       "\n",
       "    .dataframe thead th {\n",
       "        text-align: right;\n",
       "    }\n",
       "</style>\n",
       "<table border=\"1\" class=\"dataframe\">\n",
       "  <thead>\n",
       "    <tr style=\"text-align: right;\">\n",
       "      <th></th>\n",
       "      <th>xray</th>\n",
       "      <th>resol</th>\n",
       "      <th>chainlen</th>\n",
       "      <th>protein</th>\n",
       "      <th>alpham2</th>\n",
       "      <th>betam2</th>\n",
       "      <th>gammam2</th>\n",
       "      <th>deltam2</th>\n",
       "      <th>epsilonm2</th>\n",
       "      <th>zetam2</th>\n",
       "      <th>...</th>\n",
       "      <th>atomO2</th>\n",
       "      <th>atomO2p</th>\n",
       "      <th>atomO3p</th>\n",
       "      <th>atomO4</th>\n",
       "      <th>atomO4p</th>\n",
       "      <th>atomO5p</th>\n",
       "      <th>atomO6</th>\n",
       "      <th>atomOP1</th>\n",
       "      <th>atomOP2</th>\n",
       "      <th>atomOP3</th>\n",
       "    </tr>\n",
       "  </thead>\n",
       "  <tbody>\n",
       "    <tr>\n",
       "      <th>113531</th>\n",
       "      <td>1</td>\n",
       "      <td>3.050</td>\n",
       "      <td>172</td>\n",
       "      <td>0</td>\n",
       "      <td>-56.0</td>\n",
       "      <td>168.8</td>\n",
       "      <td>61.0</td>\n",
       "      <td>78.4</td>\n",
       "      <td>-154.7</td>\n",
       "      <td>-18.6</td>\n",
       "      <td>...</td>\n",
       "      <td>0</td>\n",
       "      <td>0</td>\n",
       "      <td>0</td>\n",
       "      <td>0</td>\n",
       "      <td>0</td>\n",
       "      <td>1</td>\n",
       "      <td>0</td>\n",
       "      <td>0</td>\n",
       "      <td>0</td>\n",
       "      <td>0</td>\n",
       "    </tr>\n",
       "    <tr>\n",
       "      <th>116872</th>\n",
       "      <td>1</td>\n",
       "      <td>2.350</td>\n",
       "      <td>55</td>\n",
       "      <td>0</td>\n",
       "      <td>-70.3</td>\n",
       "      <td>179.3</td>\n",
       "      <td>53.5</td>\n",
       "      <td>79.7</td>\n",
       "      <td>-92.9</td>\n",
       "      <td>-101.6</td>\n",
       "      <td>...</td>\n",
       "      <td>0</td>\n",
       "      <td>0</td>\n",
       "      <td>1</td>\n",
       "      <td>0</td>\n",
       "      <td>0</td>\n",
       "      <td>0</td>\n",
       "      <td>0</td>\n",
       "      <td>0</td>\n",
       "      <td>0</td>\n",
       "      <td>0</td>\n",
       "    </tr>\n",
       "    <tr>\n",
       "      <th>118155</th>\n",
       "      <td>1</td>\n",
       "      <td>3.020</td>\n",
       "      <td>119</td>\n",
       "      <td>0</td>\n",
       "      <td>-63.2</td>\n",
       "      <td>-179.7</td>\n",
       "      <td>53.1</td>\n",
       "      <td>78.1</td>\n",
       "      <td>-139.6</td>\n",
       "      <td>-73.7</td>\n",
       "      <td>...</td>\n",
       "      <td>0</td>\n",
       "      <td>0</td>\n",
       "      <td>1</td>\n",
       "      <td>0</td>\n",
       "      <td>0</td>\n",
       "      <td>0</td>\n",
       "      <td>0</td>\n",
       "      <td>0</td>\n",
       "      <td>0</td>\n",
       "      <td>0</td>\n",
       "    </tr>\n",
       "    <tr>\n",
       "      <th>150345</th>\n",
       "      <td>1</td>\n",
       "      <td>2.801</td>\n",
       "      <td>158</td>\n",
       "      <td>1</td>\n",
       "      <td>-146.4</td>\n",
       "      <td>170.8</td>\n",
       "      <td>175.3</td>\n",
       "      <td>146.6</td>\n",
       "      <td>-90.3</td>\n",
       "      <td>75.9</td>\n",
       "      <td>...</td>\n",
       "      <td>0</td>\n",
       "      <td>0</td>\n",
       "      <td>1</td>\n",
       "      <td>0</td>\n",
       "      <td>0</td>\n",
       "      <td>0</td>\n",
       "      <td>0</td>\n",
       "      <td>0</td>\n",
       "      <td>0</td>\n",
       "      <td>0</td>\n",
       "    </tr>\n",
       "    <tr>\n",
       "      <th>210059</th>\n",
       "      <td>0</td>\n",
       "      <td>3.400</td>\n",
       "      <td>95</td>\n",
       "      <td>1</td>\n",
       "      <td>-55.2</td>\n",
       "      <td>166.9</td>\n",
       "      <td>49.5</td>\n",
       "      <td>77.5</td>\n",
       "      <td>-151.1</td>\n",
       "      <td>-79.4</td>\n",
       "      <td>...</td>\n",
       "      <td>0</td>\n",
       "      <td>0</td>\n",
       "      <td>0</td>\n",
       "      <td>0</td>\n",
       "      <td>0</td>\n",
       "      <td>0</td>\n",
       "      <td>0</td>\n",
       "      <td>1</td>\n",
       "      <td>0</td>\n",
       "      <td>0</td>\n",
       "    </tr>\n",
       "  </tbody>\n",
       "</table>\n",
       "<p>5 rows × 383 columns</p>\n",
       "</div>"
      ],
      "text/plain": [
       "        xray  resol  chainlen  protein  alpham2  betam2  gammam2  deltam2  \\\n",
       "113531     1  3.050       172        0    -56.0   168.8     61.0     78.4   \n",
       "116872     1  2.350        55        0    -70.3   179.3     53.5     79.7   \n",
       "118155     1  3.020       119        0    -63.2  -179.7     53.1     78.1   \n",
       "150345     1  2.801       158        1   -146.4   170.8    175.3    146.6   \n",
       "210059     0  3.400        95        1    -55.2   166.9     49.5     77.5   \n",
       "\n",
       "        epsilonm2  zetam2   ...     atomO2  atomO2p  atomO3p  atomO4  atomO4p  \\\n",
       "113531     -154.7   -18.6   ...          0        0        0       0        0   \n",
       "116872      -92.9  -101.6   ...          0        0        1       0        0   \n",
       "118155     -139.6   -73.7   ...          0        0        1       0        0   \n",
       "150345      -90.3    75.9   ...          0        0        1       0        0   \n",
       "210059     -151.1   -79.4   ...          0        0        0       0        0   \n",
       "\n",
       "        atomO5p  atomO6  atomOP1  atomOP2  atomOP3  \n",
       "113531        1       0        0        0        0  \n",
       "116872        0       0        0        0        0  \n",
       "118155        0       0        0        0        0  \n",
       "150345        0       0        0        0        0  \n",
       "210059        0       0        1        0        0  \n",
       "\n",
       "[5 rows x 383 columns]"
      ]
     },
     "execution_count": 9,
     "metadata": {},
     "output_type": "execute_result"
    }
   ],
   "source": [
    "X_train, X_test, y_train, y_test = train_test_split(\n",
    "    train[\"x\"],\n",
    "    train[\"y\"],\n",
    "    test_size=0.2,\n",
    "    random_state=42)\n",
    "X_train.head()"
   ]
  },
  {
   "cell_type": "code",
   "execution_count": 10,
   "metadata": {},
   "outputs": [
    {
     "data": {
      "text/html": [
       "<div>\n",
       "<style scoped>\n",
       "    .dataframe tbody tr th:only-of-type {\n",
       "        vertical-align: middle;\n",
       "    }\n",
       "\n",
       "    .dataframe tbody tr th {\n",
       "        vertical-align: top;\n",
       "    }\n",
       "\n",
       "    .dataframe thead th {\n",
       "        text-align: right;\n",
       "    }\n",
       "</style>\n",
       "<table border=\"1\" class=\"dataframe\">\n",
       "  <thead>\n",
       "    <tr style=\"text-align: right;\">\n",
       "      <th></th>\n",
       "      <th>xray</th>\n",
       "      <th>resol</th>\n",
       "      <th>chainlen</th>\n",
       "      <th>protein</th>\n",
       "      <th>alpham2</th>\n",
       "      <th>betam2</th>\n",
       "      <th>gammam2</th>\n",
       "      <th>deltam2</th>\n",
       "      <th>epsilonm2</th>\n",
       "      <th>zetam2</th>\n",
       "      <th>...</th>\n",
       "      <th>atomO2</th>\n",
       "      <th>atomO2p</th>\n",
       "      <th>atomO3p</th>\n",
       "      <th>atomO4</th>\n",
       "      <th>atomO4p</th>\n",
       "      <th>atomO5p</th>\n",
       "      <th>atomO6</th>\n",
       "      <th>atomOP1</th>\n",
       "      <th>atomOP2</th>\n",
       "      <th>atomOP3</th>\n",
       "    </tr>\n",
       "  </thead>\n",
       "  <tbody>\n",
       "    <tr>\n",
       "      <th>150726</th>\n",
       "      <td>1</td>\n",
       "      <td>2.801</td>\n",
       "      <td>158</td>\n",
       "      <td>1</td>\n",
       "      <td>142.6</td>\n",
       "      <td>-165.8</td>\n",
       "      <td>-163.9</td>\n",
       "      <td>85.8</td>\n",
       "      <td>-149.2</td>\n",
       "      <td>-64.8</td>\n",
       "      <td>...</td>\n",
       "      <td>0</td>\n",
       "      <td>0</td>\n",
       "      <td>0</td>\n",
       "      <td>0</td>\n",
       "      <td>0</td>\n",
       "      <td>0</td>\n",
       "      <td>0</td>\n",
       "      <td>0</td>\n",
       "      <td>0</td>\n",
       "      <td>0</td>\n",
       "    </tr>\n",
       "    <tr>\n",
       "      <th>161151</th>\n",
       "      <td>1</td>\n",
       "      <td>3.118</td>\n",
       "      <td>119</td>\n",
       "      <td>1</td>\n",
       "      <td>-51.3</td>\n",
       "      <td>140.7</td>\n",
       "      <td>70.0</td>\n",
       "      <td>79.6</td>\n",
       "      <td>-153.3</td>\n",
       "      <td>-77.4</td>\n",
       "      <td>...</td>\n",
       "      <td>0</td>\n",
       "      <td>0</td>\n",
       "      <td>0</td>\n",
       "      <td>0</td>\n",
       "      <td>0</td>\n",
       "      <td>0</td>\n",
       "      <td>0</td>\n",
       "      <td>0</td>\n",
       "      <td>0</td>\n",
       "      <td>0</td>\n",
       "    </tr>\n",
       "    <tr>\n",
       "      <th>114399</th>\n",
       "      <td>1</td>\n",
       "      <td>2.280</td>\n",
       "      <td>77</td>\n",
       "      <td>0</td>\n",
       "      <td>-65.7</td>\n",
       "      <td>-179.2</td>\n",
       "      <td>51.3</td>\n",
       "      <td>82.1</td>\n",
       "      <td>-145.5</td>\n",
       "      <td>-79.6</td>\n",
       "      <td>...</td>\n",
       "      <td>0</td>\n",
       "      <td>0</td>\n",
       "      <td>0</td>\n",
       "      <td>0</td>\n",
       "      <td>0</td>\n",
       "      <td>0</td>\n",
       "      <td>0</td>\n",
       "      <td>0</td>\n",
       "      <td>0</td>\n",
       "      <td>0</td>\n",
       "    </tr>\n",
       "    <tr>\n",
       "      <th>118663</th>\n",
       "      <td>1</td>\n",
       "      <td>2.186</td>\n",
       "      <td>84</td>\n",
       "      <td>1</td>\n",
       "      <td>80.9</td>\n",
       "      <td>137.2</td>\n",
       "      <td>44.8</td>\n",
       "      <td>148.3</td>\n",
       "      <td>-93.7</td>\n",
       "      <td>-77.8</td>\n",
       "      <td>...</td>\n",
       "      <td>0</td>\n",
       "      <td>0</td>\n",
       "      <td>1</td>\n",
       "      <td>0</td>\n",
       "      <td>0</td>\n",
       "      <td>0</td>\n",
       "      <td>0</td>\n",
       "      <td>0</td>\n",
       "      <td>0</td>\n",
       "      <td>0</td>\n",
       "    </tr>\n",
       "    <tr>\n",
       "      <th>105359</th>\n",
       "      <td>1</td>\n",
       "      <td>2.212</td>\n",
       "      <td>16</td>\n",
       "      <td>0</td>\n",
       "      <td>-51.5</td>\n",
       "      <td>165.3</td>\n",
       "      <td>44.5</td>\n",
       "      <td>84.8</td>\n",
       "      <td>-147.4</td>\n",
       "      <td>-74.3</td>\n",
       "      <td>...</td>\n",
       "      <td>0</td>\n",
       "      <td>0</td>\n",
       "      <td>1</td>\n",
       "      <td>0</td>\n",
       "      <td>0</td>\n",
       "      <td>0</td>\n",
       "      <td>0</td>\n",
       "      <td>0</td>\n",
       "      <td>0</td>\n",
       "      <td>0</td>\n",
       "    </tr>\n",
       "  </tbody>\n",
       "</table>\n",
       "<p>5 rows × 383 columns</p>\n",
       "</div>"
      ],
      "text/plain": [
       "        xray  resol  chainlen  protein  alpham2  betam2  gammam2  deltam2  \\\n",
       "150726     1  2.801       158        1    142.6  -165.8   -163.9     85.8   \n",
       "161151     1  3.118       119        1    -51.3   140.7     70.0     79.6   \n",
       "114399     1  2.280        77        0    -65.7  -179.2     51.3     82.1   \n",
       "118663     1  2.186        84        1     80.9   137.2     44.8    148.3   \n",
       "105359     1  2.212        16        0    -51.5   165.3     44.5     84.8   \n",
       "\n",
       "        epsilonm2  zetam2   ...     atomO2  atomO2p  atomO3p  atomO4  atomO4p  \\\n",
       "150726     -149.2   -64.8   ...          0        0        0       0        0   \n",
       "161151     -153.3   -77.4   ...          0        0        0       0        0   \n",
       "114399     -145.5   -79.6   ...          0        0        0       0        0   \n",
       "118663      -93.7   -77.8   ...          0        0        1       0        0   \n",
       "105359     -147.4   -74.3   ...          0        0        1       0        0   \n",
       "\n",
       "        atomO5p  atomO6  atomOP1  atomOP2  atomOP3  \n",
       "150726        0       0        0        0        0  \n",
       "161151        0       0        0        0        0  \n",
       "114399        0       0        0        0        0  \n",
       "118663        0       0        0        0        0  \n",
       "105359        0       0        0        0        0  \n",
       "\n",
       "[5 rows x 383 columns]"
      ]
     },
     "execution_count": 10,
     "metadata": {},
     "output_type": "execute_result"
    }
   ],
   "source": [
    "X_test.head()"
   ]
  },
  {
   "cell_type": "code",
   "execution_count": 11,
   "metadata": {},
   "outputs": [],
   "source": [
    "\n",
    "X_train = np.array(X_train)\n",
    "X_test = np.array(X_test)\n",
    "y_train = np.array(y_train)\n",
    "y_test = np.array(y_test)"
   ]
  },
  {
   "cell_type": "code",
   "execution_count": 12,
   "metadata": {},
   "outputs": [],
   "source": [
    "model = xgb.XGBClassifier(nthread=30, n_jobs=10, \n",
    "                          max_depth=5, learning_rate=0.3, n_estimators=350, scale_pos_weight=5)"
   ]
  },
  {
   "cell_type": "code",
   "execution_count": 13,
   "metadata": {},
   "outputs": [
    {
     "data": {
      "text/plain": [
       "XGBClassifier(base_score=0.5, booster='gbtree', colsample_bylevel=1,\n",
       "       colsample_bytree=1, gamma=0, learning_rate=0.3, max_delta_step=0,\n",
       "       max_depth=5, min_child_weight=1, missing=None, n_estimators=350,\n",
       "       n_jobs=10, nthread=30, objective='binary:logistic', random_state=0,\n",
       "       reg_alpha=0, reg_lambda=1, scale_pos_weight=5, seed=None,\n",
       "       silent=True, subsample=1)"
      ]
     },
     "execution_count": 13,
     "metadata": {},
     "output_type": "execute_result"
    }
   ],
   "source": [
    "model = model.fit(X_train, y_train)\n",
    "model"
   ]
  },
  {
   "cell_type": "code",
   "execution_count": null,
   "metadata": {},
   "outputs": [],
   "source": [
    "y_pred = model.predict(X_test)"
   ]
  },
  {
   "cell_type": "code",
   "execution_count": null,
   "metadata": {},
   "outputs": [],
   "source": [
    "from sklearn.metrics import f1_score\n",
    "print(f1_score(y_test, y_pred))"
   ]
  },
  {
   "cell_type": "code",
   "execution_count": 23,
   "metadata": {},
   "outputs": [],
   "source": [
    "feat = model.feature_importances_\n",
    "feat_pred =feat > 0.01"
   ]
  },
  {
   "cell_type": "code",
   "execution_count": 24,
   "metadata": {},
   "outputs": [
    {
     "data": {
      "text/plain": [
       "array([0.02763749, 0.01683502, 0.02146465, 0.01992144, 0.01599327,\n",
       "       0.01262626, 0.01038159, 0.0102413 , 0.01010101, 0.0102413 ,\n",
       "       0.01080247, 0.01052189, 0.01010101, 0.01080247, 0.02132436,\n",
       "       0.01725589, 0.01262626], dtype=float32)"
      ]
     },
     "execution_count": 24,
     "metadata": {},
     "output_type": "execute_result"
    }
   ],
   "source": [
    "X_train = X_train[:, feat_pred]\n",
    "X_test = X_test[: , feat_pred]"
   ]
  },
  {
   "cell_type": "code",
   "execution_count": 18,
   "metadata": {},
   "outputs": [],
   "source": [
    "def out_file(y_pred, model_name=\"xgb\"):\n",
    "    with open(\"out_{}.txt\".format(model_name), \"w\") as out_f:\n",
    "        print(\"Id,mg\", file=out_f)\n",
    "        for i, ans in enumerate(y_pred):\n",
    "            print(\"{},{}\".format(i, ans), file=out_f)"
   ]
  },
  {
   "cell_type": "code",
   "execution_count": 19,
   "metadata": {},
   "outputs": [],
   "source": [
    "def applyModel(model=xgb.XGBClassifier(nthread=30, n_jobs=10, \n",
    "                                       max_depth=6, learning_rate=0.1,\n",
    "                                       n_estimators=150, scale_pos_weight=5.4, random_state=42),\n",
    "               X_train=train[\"x\"], y_train=train[\"y\"], X_test=test[\"x\"]):\n",
    "    bst = model.fit(X_train, y_train)\n",
    "    y_pred = model.predict(X_test)\n",
    "    print(y_pred.mean())\n",
    "    check_error(y_pred)\n",
    "    return y_pred"
   ]
  },
  {
   "cell_type": "code",
   "execution_count": 46,
   "metadata": {},
   "outputs": [],
   "source": [
    "def check_error(preds):\n",
    "    \"\"\"check with my best solution\"\"\"\n",
    "    y = []\n",
    "    with open('out_perfect.cvs') as f:\n",
    "        for line in f:\n",
    "            y.append(line.strip().split(',')[1])\n",
    "    y.remove('mg')\n",
    "    y = np.array(y)\n",
    "    error = 0\n",
    "    for i, x in enumerate(y):\n",
    "        if int(y[i]) != int(preds[i]):\n",
    "    #         print(y[i], preds[i])\n",
    "    #         print(\"False\")\n",
    "            error += 1\n",
    "    print(error)"
   ]
  },
  {
   "cell_type": "code",
   "execution_count": 34,
   "metadata": {},
   "outputs": [],
   "source": [
    "def applyModelSelectFeatures(model=xgb.XGBClassifier(nthread=30, n_jobs=10, min_child_weight=5,\n",
    "                                                 max_depth=6, learning_rate=0.1, scale_pos_weight=6.0,\n",
    "                                                 n_estimators=200),\n",
    "                             X_train=train[\"x\"], y_train=train[\"y\"], X_test=test[\"x\"], num_important=5):\n",
    "    fitted_train = model.fit(X_train, y_train)\n",
    "    importance_filter = np.array(fitted_train.feature_importances_).argsort()[-num_important:]\n",
    "    important_features = np.array(train['features'])[importance_filter]\n",
    "    print(important_features)\n",
    "    bst = model.fit(X_train[important_features], y_train)\n",
    "    y_pred = model.predict(X_test[important_features])\n",
    "    print(y_pred.mean())\n",
    "    check_error(y_pred)\n",
    "    return y_pred\n",
    "    "
   ]
  },
  {
   "cell_type": "code",
   "execution_count": 31,
   "metadata": {},
   "outputs": [
    {
     "name": "stdout",
     "output_type": "stream",
     "text": [
      "['betam1' 'chi' 'chim2' 'thetapm2' 'zetam2' 'thetapp' 'thetapm1' 'splay'\n",
      " 'etappm2' 'etappm1' 'betam2' 'thetap' 'etapp1' 'splaym1' 'alpham2'\n",
      " 'moietyB' 'wtlen' 'moietyP' 'resol' 'chainlen']\n",
      "0.1433868974042027\n",
      "354\n"
     ]
    },
    {
     "name": "stderr",
     "output_type": "stream",
     "text": [
      "/home/ulyanin/.local/lib/python3.5/site-packages/sklearn/preprocessing/label.py:151: DeprecationWarning: The truth value of an empty array is ambiguous. Returning False, but in future this will result in an error. Use `array.size > 0` to check that an array is not empty.\n",
      "  if diff:\n"
     ]
    }
   ],
   "source": [
    "y_pred_xgb = applyModelSelectFeatures(num_important=20)"
   ]
  },
  {
   "cell_type": "code",
   "execution_count": 79,
   "metadata": {},
   "outputs": [
    {
     "name": "stdout",
     "output_type": "stream",
     "text": [
      "['thetap1' 'thetap' 'moietyB' 'thetapp' 'thetapm1' 'splaym1' 'etapp1'\n",
      " 'wtlen' 'resol' 'chainlen']\n",
      "0.1169344870210136\n",
      "0\n"
     ]
    },
    {
     "name": "stderr",
     "output_type": "stream",
     "text": [
      "/home/ulyanin/.local/lib/python3.5/site-packages/sklearn/preprocessing/label.py:151: DeprecationWarning: The truth value of an empty array is ambiguous. Returning False, but in future this will result in an error. Use `array.size > 0` to check that an array is not empty.\n",
      "  if diff:\n"
     ]
    }
   ],
   "source": [
    "model=xgb.XGBClassifier(nthread=30, n_jobs=10,max_depth=5, min_child_weight=4, learning_rate=0.1, scale_pos_weight=5,\n",
    "                      n_estimators=90, random_state=42)\n",
    "y_pred_xgb = applyModelSelectFeatures(model=model, num_important=10)\n",
    "# model=xgb.XGBClassifier(nthread=30, n_jobs=10, \n",
    "#                         max_depth=4, learning_rate=0.1,\n",
    "#                         n_estimators=175, scale_pos_weight=6.0, random_state=666)\n",
    "# y_pred_xgb = applyModelSelectFeatures(model=model)"
   ]
  },
  {
   "cell_type": "code",
   "execution_count": 51,
   "metadata": {},
   "outputs": [],
   "source": [
    "# score= 0.4017\n",
    "\n",
    "out_file(y_pred_xgb, model_name=\"xgb\")"
   ]
  },
  {
   "cell_type": "code",
   "execution_count": 77,
   "metadata": {},
   "outputs": [
    {
     "name": "stdout",
     "output_type": "stream",
     "text": [
      "['thetap1' 'thetapm2' 'thetap' 'moietyB' 'etapp1' 'thetapm1' 'splaym1'\n",
      " 'wtlen' 'resol' 'chainlen']\n",
      "0.1369592088998764\n",
      "129\n"
     ]
    },
    {
     "name": "stderr",
     "output_type": "stream",
     "text": [
      "/home/ulyanin/.local/lib/python3.5/site-packages/sklearn/preprocessing/label.py:151: DeprecationWarning: The truth value of an empty array is ambiguous. Returning False, but in future this will result in an error. Use `array.size > 0` to check that an array is not empty.\n",
      "  if diff:\n"
     ]
    }
   ],
   "source": [
    "model=xgb.XGBClassifier(nthread=30, n_jobs=10,max_depth=5, min_child_weight=4, learning_rate=0.09, scale_pos_weight=5,\n",
    "                          n_estimators=100, random_state=42)\n",
    "y_pred_xgb3 = applyModelSelectFeatures(model=model, num_important=10)"
   ]
  },
  {
   "cell_type": "code",
   "execution_count": 64,
   "metadata": {},
   "outputs": [],
   "source": [
    "# score= 0.4017\n",
    "out_file(y_pred_xgb, model_name=\"xgb3\")"
   ]
  },
  {
   "cell_type": "code",
   "execution_count": 95,
   "metadata": {},
   "outputs": [
    {
     "name": "stdout",
     "output_type": "stream",
     "text": [
      "['splay' 'thetapp1' 'etapp1' 'thetapm2' 'moietyB' 'thetap' 'thetapm1'\n",
      " 'splaym1' 'wtlen' 'resol' 'chainlen']\n",
      "0.13053152039555005\n",
      "155\n"
     ]
    },
    {
     "name": "stderr",
     "output_type": "stream",
     "text": [
      "/home/ulyanin/.local/lib/python3.5/site-packages/sklearn/preprocessing/label.py:151: DeprecationWarning: The truth value of an empty array is ambiguous. Returning False, but in future this will result in an error. Use `array.size > 0` to check that an array is not empty.\n",
      "  if diff:\n"
     ]
    }
   ],
   "source": [
    "model=xgb.XGBClassifier(nthread=30, n_jobs=10, max_depth=5, min_child_weight=4, \n",
    "                        learning_rate=0.1, scale_pos_weight=5.48,\n",
    "                          n_estimators=90, random_state=430)\n",
    "y_pred_xgb2 = applyModelSelectFeatures(model=model, num_important=11)"
   ]
  },
  {
   "cell_type": "code",
   "execution_count": 96,
   "metadata": {},
   "outputs": [],
   "source": [
    "\n",
    "out_file(y_pred_xgb, model_name=\"xgb2\")"
   ]
  },
  {
   "cell_type": "code",
   "execution_count": 15,
   "metadata": {},
   "outputs": [
    {
     "data": {
      "text/plain": [
       "<module 'catboost' from '/home/ulyanin/.local/lib/python3.5/site-packages/catboost/__init__.py'>"
      ]
     },
     "execution_count": 15,
     "metadata": {},
     "output_type": "execute_result"
    }
   ],
   "source": [
    "import catboost\n",
    "import importlib\n",
    "importlib.reload(catboost)"
   ]
  },
  {
   "cell_type": "code",
   "execution_count": 39,
   "metadata": {},
   "outputs": [],
   "source": [
    "\n",
    "catboost.CatBoostClassifier?"
   ]
  },
  {
   "cell_type": "code",
   "execution_count": 44,
   "metadata": {},
   "outputs": [
    {
     "name": "stdout",
     "output_type": "stream",
     "text": [
      "['atomN2' 'seqC1' 'gamma1' 'atomO2' 'thetap2' 'splay' 'thetap1' 'moietyB'\n",
      " 'xray' 'thetap' 'wtlen' 'thetapm1' 'moietyR' 'chainlen' 'resol']\n",
      "0.16019777503090235\n",
      "342\n"
     ]
    }
   ],
   "source": [
    "model = catboost.CatBoostClassifier(thread_count=30, \n",
    "                           learning_rate=0.03, depth=5, scale_pos_weight=5.4,\n",
    "                           loss_function='Logloss', random_seed=42, iterations=1000, logging_level='Silent')\n",
    "y_pred_catboost = applyModelSelectFeatures(model=model, num_important=15)\n",
    "# model = catboost.CatBoostClassifier(thread_count=30, \n",
    "#                            learning_rate=0.03, depth=5, scale_pos_weight=5.4,\n",
    "#                            loss_function='Logloss', )\n",
    "# y_pred_catboost = applyModelSelectFeatures(model=model)"
   ]
  },
  {
   "cell_type": "code",
   "execution_count": 24,
   "metadata": {},
   "outputs": [
    {
     "ename": "NameError",
     "evalue": "name 'PY3' is not defined",
     "output_type": "error",
     "traceback": [
      "\u001b[0;31m---------------------------------------------------------------------------\u001b[0m",
      "\u001b[0;31mNameError\u001b[0m                                 Traceback (most recent call last)",
      "\u001b[0;32m<ipython-input-24-bfc5b83a6653>\u001b[0m in \u001b[0;36m<module>\u001b[0;34m()\u001b[0m\n\u001b[1;32m      1\u001b[0m model = catboost.CatBoostClassifier(thread_count=30, \n\u001b[1;32m      2\u001b[0m                            \u001b[0mlearning_rate\u001b[0m\u001b[0;34m=\u001b[0m\u001b[0;36m0.03\u001b[0m\u001b[0;34m,\u001b[0m \u001b[0mdepth\u001b[0m\u001b[0;34m=\u001b[0m\u001b[0;36m5\u001b[0m\u001b[0;34m,\u001b[0m \u001b[0mscale_pos_weight\u001b[0m\u001b[0;34m=\u001b[0m\u001b[0;36m5.4\u001b[0m\u001b[0;34m,\u001b[0m\u001b[0;34m\u001b[0m\u001b[0m\n\u001b[0;32m----> 3\u001b[0;31m                            loss_function='Logloss')\n\u001b[0m\u001b[1;32m      4\u001b[0m \u001b[0my_pred_catboost\u001b[0m \u001b[0;34m=\u001b[0m \u001b[0mapplyModelSelectFeatures\u001b[0m\u001b[0;34m(\u001b[0m\u001b[0mmodel\u001b[0m\u001b[0;34m=\u001b[0m\u001b[0mmodel\u001b[0m\u001b[0;34m)\u001b[0m\u001b[0;34m\u001b[0m\u001b[0m\n",
      "\u001b[0;32m~/.local/lib/python3.5/site-packages/catboost/core.py\u001b[0m in \u001b[0;36m__init__\u001b[0;34m(self, iterations, learning_rate, depth, l2_leaf_reg, model_size_reg, rsm, loss_function, border_count, feature_border_type, fold_permutation_block_size, od_pval, od_wait, od_type, nan_mode, counter_calc_method, leaf_estimation_iterations, leaf_estimation_method, thread_count, random_seed, use_best_model, verbose, logging_level, metric_period, ctr_leaf_count_limit, store_all_simple_ctr, max_ctr_complexity, has_time, classes_count, class_weights, one_hot_max_size, random_strength, name, ignored_features, train_dir, custom_loss, custom_metric, eval_metric, bagging_temperature, save_snapshot, snapshot_file, fold_len_multiplier, used_ram_limit, gpu_ram_part, allow_writing_files, approx_on_full_history, boosting_type, simple_ctr, combinations_ctr, per_feature_ctr, ctr_description, task_type, device_config, devices, bootstrap_type, max_depth, n_estimators, num_boost_round, num_trees, colsample_bylevel, random_state, reg_lambda, objective, eta, max_bin, scale_pos_weight, **kwargs)\u001b[0m\n\u001b[1;32m   1452\u001b[0m             \u001b[0mobjective\u001b[0m \u001b[0;34m=\u001b[0m \u001b[0;32mNone\u001b[0m\u001b[0;34m\u001b[0m\u001b[0m\n\u001b[1;32m   1453\u001b[0m \u001b[0;34m\u001b[0m\u001b[0m\n\u001b[0;32m-> 1454\u001b[0;31m         \u001b[0;32mif\u001b[0m \u001b[0misinstance\u001b[0m\u001b[0;34m(\u001b[0m\u001b[0mloss_function\u001b[0m\u001b[0;34m,\u001b[0m \u001b[0mstr\u001b[0m\u001b[0;34m)\u001b[0m \u001b[0;32mand\u001b[0m \u001b[0;32mnot\u001b[0m \u001b[0mself\u001b[0m\u001b[0;34m.\u001b[0m\u001b[0m_is_classification_loss\u001b[0m\u001b[0;34m(\u001b[0m\u001b[0mloss_function\u001b[0m\u001b[0;34m)\u001b[0m\u001b[0;34m:\u001b[0m\u001b[0;34m\u001b[0m\u001b[0m\n\u001b[0m\u001b[1;32m   1455\u001b[0m             raise CatboostError(\"Invalid loss_function='{}': for classifier use \"\n\u001b[1;32m   1456\u001b[0m                                 \"Logloss, CrossEntropy, MultiClass, MultiClassOneVsAll, AUC, Accuracy, Precision, Recall, F1, TotalF1, MCC or custom objective object\".format(loss_function))\n",
      "\u001b[0;32m_catboost.pyx\u001b[0m in \u001b[0;36m_catboost._CatBoostBase._is_classification_loss\u001b[0;34m()\u001b[0m\n",
      "\u001b[0;32m_catboost.pyx\u001b[0m in \u001b[0;36m_catboost.to_binary_str\u001b[0;34m()\u001b[0m\n",
      "\u001b[0;31mNameError\u001b[0m: name 'PY3' is not defined"
     ]
    }
   ],
   "source": [
    "model = catboost.CatBoostClassifier(thread_count=30, \n",
    "                           learning_rate=0.03, depth=5, scale_pos_weight=5.4,\n",
    "                           loss_function='Logloss')\n",
    "y_pred_catboost = applyModelSelectFeatures(model=model)"
   ]
  },
  {
   "cell_type": "code",
   "execution_count": 20,
   "metadata": {},
   "outputs": [],
   "source": [
    "out_file(y_pred_catboost.astype(np.int), model_name=\"cat\")"
   ]
  },
  {
   "cell_type": "code",
   "execution_count": null,
   "metadata": {},
   "outputs": [],
   "source": []
  }
 ],
 "metadata": {
  "kernelspec": {
   "display_name": "Python 3",
   "language": "python",
   "name": "python3"
  },
  "language_info": {
   "codemirror_mode": {
    "name": "ipython",
    "version": 3
   },
   "file_extension": ".py",
   "mimetype": "text/x-python",
   "name": "python",
   "nbconvert_exporter": "python",
   "pygments_lexer": "ipython3",
   "version": "3.5.2"
  }
 },
 "nbformat": 4,
 "nbformat_minor": 2
}
