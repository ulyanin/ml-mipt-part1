{
 "cells": [
  {
   "cell_type": "code",
   "execution_count": 14,
   "metadata": {},
   "outputs": [],
   "source": [
    "import pandas as pd\n",
    "import numpy as np\n",
    "from copy import deepcopy"
   ]
  },
  {
   "cell_type": "code",
   "execution_count": 15,
   "metadata": {},
   "outputs": [],
   "source": [
    "fold = 'input/'\n",
    "file_train = 'train.csv'\n",
    "file_test = 'test.csv'"
   ]
  },
  {
   "cell_type": "code",
   "execution_count": 16,
   "metadata": {},
   "outputs": [],
   "source": [
    "def load_data(filename, test=True):\n",
    "    '''\n",
    "        Функция для загрузки датасета без инициализации класса. \n",
    "        \n",
    "        Возвращает:\n",
    "         data - полный DataFrame\n",
    "         fetures - список признаков для обучения/предсказания\n",
    "         x - датасет для тренировки/предсказания в формате np.array\n",
    "         y - целевой признак, если он есть. В случае с тестовым датасетом возвращает None\n",
    "    '''\n",
    "    if test:\n",
    "        data = pd.read_table(filename, sep=',').dropna()\n",
    "    else:\n",
    "        data = pd.read_table(filename).dropna()\n",
    "    data = data[~(data['chainlen']>1000)]\n",
    "\n",
    "    if ('DSSR' in data.columns):\n",
    "        data.drop('DSSR', axis=1, inplace=True)    \n",
    "    \n",
    "    features = list(deepcopy(data.columns))\n",
    "    \n",
    "    [features.remove(column) for column in ['Id','index', 'mg'] if column in data.columns];\n",
    "    x_test = np.array(data[features])\n",
    "    \n",
    "    try:\n",
    "        y_test = np.array(data['mg'])\n",
    "    except: \n",
    "        y_test = None\n",
    "    change_output('Data loaded')\n",
    "    return {'data':data, 'features':features, 'x':x_test, 'y':y_test}"
   ]
  },
  {
   "cell_type": "code",
   "execution_count": 17,
   "metadata": {},
   "outputs": [
    {
     "ename": "NameError",
     "evalue": "name 'change_output' is not defined",
     "output_type": "error",
     "traceback": [
      "\u001b[0;31m---------------------------------------------------------------------------\u001b[0m",
      "\u001b[0;31mNameError\u001b[0m                                 Traceback (most recent call last)",
      "\u001b[0;32m<ipython-input-17-463d6ea48563>\u001b[0m in \u001b[0;36m<module>\u001b[0;34m()\u001b[0m\n\u001b[0;32m----> 1\u001b[0;31m \u001b[0mtrain\u001b[0m \u001b[0;34m=\u001b[0m \u001b[0mload_data\u001b[0m\u001b[0;34m(\u001b[0m\u001b[0mfold\u001b[0m \u001b[0;34m+\u001b[0m \u001b[0mfile_train\u001b[0m\u001b[0;34m,\u001b[0m \u001b[0mtest\u001b[0m\u001b[0;34m=\u001b[0m\u001b[0;32mFalse\u001b[0m\u001b[0;34m)\u001b[0m\u001b[0;34m\u001b[0m\u001b[0m\n\u001b[0m",
      "\u001b[0;32m<ipython-input-16-952f07a7b98f>\u001b[0m in \u001b[0;36mload_data\u001b[0;34m(filename, test)\u001b[0m\n\u001b[1;32m     27\u001b[0m     \u001b[0;32mexcept\u001b[0m\u001b[0;34m:\u001b[0m\u001b[0;34m\u001b[0m\u001b[0m\n\u001b[1;32m     28\u001b[0m         \u001b[0my_test\u001b[0m \u001b[0;34m=\u001b[0m \u001b[0;32mNone\u001b[0m\u001b[0;34m\u001b[0m\u001b[0m\n\u001b[0;32m---> 29\u001b[0;31m     \u001b[0mchange_output\u001b[0m\u001b[0;34m(\u001b[0m\u001b[0;34m'Data loaded'\u001b[0m\u001b[0;34m)\u001b[0m\u001b[0;34m\u001b[0m\u001b[0m\n\u001b[0m\u001b[1;32m     30\u001b[0m     \u001b[0;32mreturn\u001b[0m \u001b[0;34m{\u001b[0m\u001b[0;34m'data'\u001b[0m\u001b[0;34m:\u001b[0m\u001b[0mdata\u001b[0m\u001b[0;34m,\u001b[0m \u001b[0;34m'features'\u001b[0m\u001b[0;34m:\u001b[0m\u001b[0mfeatures\u001b[0m\u001b[0;34m,\u001b[0m \u001b[0;34m'x'\u001b[0m\u001b[0;34m:\u001b[0m\u001b[0mx_test\u001b[0m\u001b[0;34m,\u001b[0m \u001b[0;34m'y'\u001b[0m\u001b[0;34m:\u001b[0m\u001b[0my_test\u001b[0m\u001b[0;34m}\u001b[0m\u001b[0;34m\u001b[0m\u001b[0m\n",
      "\u001b[0;31mNameError\u001b[0m: name 'change_output' is not defined"
     ]
    }
   ],
   "source": [
    "train = load_data(fold + file_train, test=False)"
   ]
  },
  {
   "cell_type": "code",
   "execution_count": null,
   "metadata": {},
   "outputs": [],
   "source": []
  }
 ],
 "metadata": {
  "kernelspec": {
   "display_name": "Python 3",
   "language": "python",
   "name": "python3"
  },
  "language_info": {
   "codemirror_mode": {
    "name": "ipython",
    "version": 3
   },
   "file_extension": ".py",
   "mimetype": "text/x-python",
   "name": "python",
   "nbconvert_exporter": "python",
   "pygments_lexer": "ipython3",
   "version": "3.5.2"
  }
 },
 "nbformat": 4,
 "nbformat_minor": 2
}
